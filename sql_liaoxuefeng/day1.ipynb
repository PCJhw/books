{
 "cells": [
  {
   "cell_type": "markdown",
   "metadata": {},
   "source": [
    "### 本部分主要参考廖雪峰老师的SQL教程\n",
    "- 主要记录一些阅读的重点和练练手\n",
    "- https://www.liaoxuefeng.com/wiki/1177760294764384"
   ]
  },
  {
   "cell_type": "markdown",
   "metadata": {},
   "source": [
    "## 1. SQL概述\n",
    "- 什么是SQL？简单地说，SQL就是访问和处理关系数据库的计算机标准语言。\n",
    "- 为什么需要数据库？文件存储的弊端\n",
    "    - 读写文件并解析出数据需要大量重复代码\n",
    "    - 从成千上万的数据中快速查询出指定数据需要复杂的逻辑。\n",
    "- 数据库一共有三种模型：\n",
    "    - 层次模型：以“上下级”的层次关系来组织数据的一种方式，层次模型的数据结构看起来就像一颗树\n",
    "    - 网状模型：网状模型把每个数据节点和其他很多节点都连接起来，数据结构看起来就像很多城市之间的路网\n",
    "    - 关系模型：关系模型把数据看作是一个二维表格，任何数据都可以通过行号+列号来唯一确定，它的数据模型看起来就是一个Excel表\n",
    "- 关系模型理解和使用起来最简单。"
   ]
  },
  {
   "cell_type": "markdown",
   "metadata": {},
   "source": [
    "## 2. SQL数据类型\n",
    "- INT：+/-21亿\n",
    "- DOUBLE\n",
    "- CHAR(N)：存储指定长度的字符串，例如，CHAR(100)总是存储100个字符的字符串\n",
    "- VARCHAR(N)：存储可变长度的字符串，例如，VARCHAR(100)可以存储0~100个字符的字符串\n",
    "- BOOLEAN：存储True或者False\n",
    "- DATE：存储日期，例如，2018-06-22\n",
    "- TIME：存储时间，例如，12:20:59\n",
    "- DATETIME：存储日期+时间，例如，2018-06-22 12:20:59"
   ]
  },
  {
   "cell_type": "markdown",
   "metadata": {},
   "source": [
    "## 3. 主流数据库\n",
    "1. 商用数据库，例如：Oracle，SQL Server，DB2等；\n",
    "2. 开源数据库，例如：MySQL，PostgreSQL等；\n",
    "3. 桌面数据库，以微软Access为代表，适合桌面应用程序使用；\n",
    "4. 嵌入式数据库，以Sqlite为代表，适合手机应用和桌面程序。"
   ]
  },
  {
   "cell_type": "markdown",
   "metadata": {},
   "source": [
    "## 4.SQL语言初步\n",
    "- SQL是结构化查询语言的缩写，用来访问和操作数据库系统。SQL语句既可以查询数据库中的数据，也可以添加、更新和删除数据库中的数据，还可以对数据库进行管理和维护操作。\n",
    "- SQL语言定义了这么几种操作数据库的能力：\n",
    "    - DDL：Data Definition Language：DDL允许用户定义数据，也就是创建表、删除表、修改表结构这些操作。通常，DDL由数据库管理员执行。\n",
    "    - DML：Data Manipulation Language：DML为用户提供添加、删除、更新数据的能力，这些是应用程序对数据库的日常操作。\n",
    "    - DQL：Data Query Language：DQL允许用户查询数据，这也是通常最频繁的数据库日常操作。\n",
    "- SQL语言关键字不区分大小写！！！但是，针对不同的数据库，对于表名和列名，有的数据库区分大小写，有的数据库不区分大小写。"
   ]
  },
  {
   "cell_type": "markdown",
   "metadata": {},
   "source": [
    "## 5.安装\n",
    "- 分支：\n",
    "    - MariaDB\n",
    "    - Aurora：Amazon改进的一个MySQL版本\n",
    "    - PolarDB：Alibaba改进的一个MySQL版本\n",
    "- 版本\n",
    "    - Community\n",
    "    - Standard\n",
    "    - Enterprise\n",
    "    - Cluster Carrier Grade Edition：集群版\n",
    "- 优势: 不同版本的\"兼容\"。sql语言接口与sql引擎是独立的\n",
    "> 使用MySQL就带来了一个巨大的好处：可以在自己的电脑上安装免费的Community Edition版本，进行学习、开发、测试，部署的时候，可以选择付费的高级版本，或者云服务商提供的兼容版本，而不需要对应用程序本身做改动。\n",
    "- 安装\n",
    "    - Linux: apt-get install mysql-server\n",
    "    - Mac: https://www.jianshu.com/p/07a9826898c0\n",
    "    - passwd: hwmysql123"
   ]
  },
  {
   "cell_type": "markdown",
   "metadata": {},
   "source": []
  },
  {
   "cell_type": "code",
   "execution_count": null,
   "metadata": {},
   "outputs": [],
   "source": []
  }
 ],
 "metadata": {
  "kernelspec": {
   "display_name": "Python 3",
   "language": "python",
   "name": "python3"
  },
  "language_info": {
   "codemirror_mode": {
    "name": "ipython",
    "version": 3
   },
   "file_extension": ".py",
   "mimetype": "text/x-python",
   "name": "python",
   "nbconvert_exporter": "python",
   "pygments_lexer": "ipython3",
   "version": "3.6.2"
  }
 },
 "nbformat": 4,
 "nbformat_minor": 4
}
