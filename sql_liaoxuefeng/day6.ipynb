{
 "cells": [
  {
   "cell_type": "markdown",
   "metadata": {},
   "source": [
    "## 11. 事务\n",
    "- 把多条语句作为一个整体进行操作的功能，被称为数据库事务: 例如，一个转账操作；需要给a加1，b减1；这两个语句必须同时成功或失败。\n",
    "- 可见，数据库事务具有ACID这4个特性：\n",
    "    - A：Atomic，原子性，将所有SQL作为原子工作单元执行，要么全部执行，要么全部不执行\n",
    "    - C：Consistent，一致性，事务完成后，所有数据的状态都是一致的，即A账户只要减去了100，B账户则必定加上了100\n",
    "    - I：Isolation，隔离性，如果有多个事务并发执行，每个事务作出的修改必须与其他事务隔离\n",
    "    - D：Duration，持久性，即事务完成后，对数据库数据的修改被持久化存储。\n",
    "- 对于单条SQL语句，数据库系统自动将其作为一个事务执行，这种事务被称为隐式事务。\n",
    "- 使用BEGIN开启一个事务，使用COMMIT提交一个事务，这种事务被称为显式事务\n",
    "```\n",
    "BEGIN;\n",
    "UPDATE accounts SET balance = balance - 100 WHERE id = 1;\n",
    "UPDATE accounts SET balance = balance + 100 WHERE id = 2;\n",
    "COMMIT;\n",
    "```\n",
    "- 可以用ROLLBACK回滚事务\n",
    "- Read Uncommitted\n",
    "    - Read Uncommitted是隔离级别最低的一种事务级别\n",
    "    - > 在这种隔离级别下，一个事务会读到另一个事务更新后但未提交的数据，如果另一个事务回滚，那么当前事务读到的数据就是脏数据，这就是脏读（Dirty Read）。\n",
    "- Read Committed\n",
    "    - 在Read Committed隔离级别下，一个事务可能会遇到不可重复读（Non Repeatable Read）的问题。\n",
    "    - 不可重复读是指，在一个事务内，多次读同一数据，在这个事务还没有结束时，如果另一个事务恰好修改了这个数据，那么，在第一个事务中，两次读取的数据就可能不一致。\n",
    "- Repeatable Read\n",
    "    - 在Repeatable Read隔离级别下，一个事务可能会遇到幻读（Phantom Read）的问题。\n",
    "    - 幻读是指，在一个事务中，第一次查询某条记录，发现没有，但是，当试图更新这条不存在的记录时，竟然能成功，并且，再次读取同一条记录，它就神奇地出现了。\n",
    "- Serializable\n",
    "    - 是最严格的隔离级别。在Serializable隔离级别下，所有事务按照次序依次执行，因此，脏读、不可重复读、幻读都不会出现。\n",
    "    - 但是，由于事务是串行执行，所以效率会大大下降，应用程序的性能会急剧降低。如果没有特别重要的情景，一般都不会使用Serializable隔离级别。\n",
    "- 在MySQL中，如果使用InnoDB，默认的隔离级别是Repeatable Read。"
   ]
  }
 ],
 "metadata": {
  "kernelspec": {
   "display_name": "Python 3",
   "language": "python",
   "name": "python3"
  },
  "language_info": {
   "codemirror_mode": {
    "name": "ipython",
    "version": 3
   },
   "file_extension": ".py",
   "mimetype": "text/x-python",
   "name": "python",
   "nbconvert_exporter": "python",
   "pygments_lexer": "ipython3",
   "version": "3.6.2"
  }
 },
 "nbformat": 4,
 "nbformat_minor": 4
}
