{
 "cells": [
  {
   "cell_type": "markdown",
   "metadata": {},
   "source": [
    "## 9.Mysql\n",
    "- MySQL Client和MySQL Server的关系\n",
    "    - 在MySQL Client中输入的SQL语句通过TCP连接发送到MySQL Server。默认端口号是3306\n",
    "    - 也可以只安装MySQL Client，然后连接到远程MySQL Server。假设远程MySQL Server的IP地址是10.0.1.99，那么就使用-h指定IP或域名: mysql -h 10.0.1.99 -u root -p\n",
    "- 在安装phpadmin的过程中会遇到一些坑:\n",
    "    - https://www.cnblogs.com/liang1101/p/7282597.html\n",
    "    - https://www.php.cn/tool/phpmyadmin/436387.html\n",
    "- SQL管理操作\n",
    "    - 数据库\n",
    "        - SHOW DATABASES;\n",
    "        - CREATE DATABASE test IF NOT EXISTS test;\n",
    "        - DROP DATABASE test;\n",
    "        - USE test;\n",
    "    - 表\n",
    "        - SHOW TABLES;\n",
    "        - DESC students;\n",
    "        - SHOW CREATE TABLE students;\n",
    "        - CREATE TABLE students ...\n",
    "        - DROP TABLE IF EXISTS students;\n",
    "        - ALTER TABLE students ADD COLUMN birth VARCHAR(10) NOT NULL;\n",
    "        - ALTER TABLE students CHANGE COLUMN birth birthday VARCHAR(20) NOT NULL;\n",
    "        - ALTER TABLE students DROP COLUMN birthday;\n",
    "    - 系统\n",
    "        - \\h\n",
    "        - EXIT\n",
    "\n",
    "## 10. 更实用的sql语句\n",
    "- 插入或替换\n",
    "    - REPLACE INTO students (id, class_id, name, gender, score) VALUES (1, 1, '小明', 'F', 99);\n",
    "- 插入或更新\n",
    "    - INSERT INTO students (id, class_id, name, gender, score) VALUES (1, 1, '小明', 'F', 99) ON DUPLICATE KEY UPDATE name='小明', gender='F', score=99;\n",
    "- 插入或忽略\n",
    "    - INSERT IGNORE INTO students (id, class_id, name, gender, score) VALUES (1, 1, '小明', 'F', 99);\n",
    "    \n",
    "- 快照\n",
    "    - CREATE TABLE students_of_class1 SELECT * FROM students WHERE class_id=1;\n",
    "    - 新创建的表结构和SELECT使用的表结构完全一致\n",
    "- 写入查询结果集\n",
    "```\n",
    "CREATE TABLE statistics (\n",
    "    id BIGINT NOT NULL AUTO_INCREMENT,\n",
    "    class_id BIGINT NOT NULL,\n",
    "    average DOUBLE NOT NULL,\n",
    "    PRIMARY KEY (id)\n",
    ");\n",
    "```\n",
    "    - INSERT INTO statistics (class_id, average) SELECT class_id, AVG(score) FROM students GROUP BY class_id;\n",
    "    \n",
    "- 强制使用指定索引\n",
    "    - SELECT * FROM students FORCE INDEX (idx_class_id) WHERE class_id = 1 ORDER BY id DESC;"
   ]
  }
 ],
 "metadata": {
  "kernelspec": {
   "display_name": "Python 3",
   "language": "python",
   "name": "python3"
  },
  "language_info": {
   "codemirror_mode": {
    "name": "ipython",
    "version": 3
   },
   "file_extension": ".py",
   "mimetype": "text/x-python",
   "name": "python",
   "nbconvert_exporter": "python",
   "pygments_lexer": "ipython3",
   "version": "3.6.2"
  }
 },
 "nbformat": 4,
 "nbformat_minor": 4
}
