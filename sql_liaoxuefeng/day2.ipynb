{
 "cells": [
  {
   "cell_type": "markdown",
   "metadata": {},
   "source": [
    "## 6.关系模型\n",
    "- 记录Record； 字段Column\n",
    "- 主键：唯一区分； \n",
    "- 选取主键的一个基本原则是：不使用任何业务相关的字段作为主键。因此，身份证号、手机号、邮箱地址这些看上去可以唯一的字段，均不可用作主键。\n",
    "- 常见的可作为id字段的类型有：\n",
    "    - 自增整数类型：BIGINT NOT NULL AUTO_INCREMENT\n",
    "    - 全局唯一GUID类型：使用一种全局唯一的字符串作为主键\n",
    "- 联合主键：可以使用多个列作为联合主键，但是联合主键并不常用。\n",
    "- 外键：实现一对多：在students表中，通过class_id的字段，可以把数据与另一张表关联起来\n",
    "- 外键并不是通过列名实现的，而是通过定义外键约束实现的\n",
    "```\n",
    "ALTER TABLE students\n",
    "ADD CONSTRAINT fk_class_id\n",
    "FOREIGN KEY (class_id)\n",
    "REFERENCES classes (id);\n",
    "```\n",
    "\n",
    "> 通过定义外键约束，关系数据库可以保证无法插入无效的数据。即如果classes表不存在id=99的记录，students表就无法插入class_id=99的记录。\n",
    "\n",
    "> 由于外键约束会降低数据库的性能，大部分互联网应用程序为了追求速度，并不设置外键约束，而是仅靠应用程序自身来保证逻辑的正确性。这种情况下，class_id仅仅是一个普通的列，只是它起到了外键的作用而已。\n",
    "\n",
    "- 要删除一个外键约束，也是通过ALTER TABLE实现的\n",
    "```\n",
    "ALTER TABLE students\n",
    "DROP FOREIGN KEY fk_class_id;\n",
    "```\n",
    "\n",
    "> 删除外键约束并没有删除外键这一列。删除列是通过DROP COLUMN ...实现的.\n",
    "\n",
    "- “多对多”: 通过中间表,定义了“多对多”关系.\n",
    "- “一对一”: 一些应用会把一个大表拆成两个一对一的表，目的是把经常读取和不经常读取的字段分开，以获得更高的性能。\n",
    "> 例如，把一个大的用户表分拆为用户基本信息表user_info和用户详细信息表user_profiles，大部分时候，只需要查询user_info表，并不需要查询user_profiles表，这样就提高了查询速度。\n",
    "\n",
    "- 索引：增加查询的速度。\n",
    "> 索引是关系数据库中对某一列或多个列的值进行预排序的数据结构。通过使用索引，可以让数据库系统不必扫描整个表，而是直接定位到符合条件的记录，这样就大大加快了查询速度。\n",
    "```\n",
    "ALTER TABLE students\n",
    "ADD INDEX idx_name_score (name, score);\n",
    "```\n",
    "- 索引的效率取决于索引列的值是否散列，即该列的值如果越互不相同，那么索引效率越高。反过来，如果记录的列存在大量相同的值，例如gender列，大约一半的记录值是M，另一半是F，因此，对该列创建索引就没有意义。\n",
    "- 可以对一张表创建多个索引。索引的优点是提高了查询效率，缺点是在插入、更新和删除记录时，需要同时修改索引，因此，索引越多，插入、更新和删除记录的速度就越慢。\n",
    "- 对于主键，关系数据库会自动对其创建主键索引。使用主键索引的效率是最高的，因为主键会保证绝对唯一。\n",
    "- 唯一索引\n",
    "```\n",
    "ALTER TABLE students\n",
    "ADD UNIQUE INDEX uni_name (name);\n",
    "```\n",
    "- 唯一约束\n",
    "```\n",
    "ALTER TABLE students\n",
    "ADD CONSTRAINT uni_name UNIQUE (name);\n",
    "```\n",
    "- 索引可以在使用数据库的过程中逐步优化。\n",
    "\n",
    "\n",
    "- 主键总结: 主键是关系表中记录的唯一标识。主键的选取非常重要：主键不要带有业务含义，而应该使用BIGINT自增或者GUID类型。主键也不应该允许NULL。可以使用多个列作为联合主键，但联合主键并不常用。\n",
    "- 外键总结: 关系数据库通过外键可以实现一对多、多对多和一对一的关系。外键既可以通过数据库来约束，也可以不设置约束，仅依靠应用程序的逻辑来保证。\n",
    "- 索引总结: 通过对数据库表创建索引，可以提高查询速度。数据库索引对于用户和应用程序来说都是透明的."
   ]
  },
  {
   "cell_type": "code",
   "execution_count": null,
   "metadata": {},
   "outputs": [],
   "source": []
  }
 ],
 "metadata": {
  "kernelspec": {
   "display_name": "Python 3",
   "language": "python",
   "name": "python3"
  },
  "language_info": {
   "codemirror_mode": {
    "name": "ipython",
    "version": 3
   },
   "file_extension": ".py",
   "mimetype": "text/x-python",
   "name": "python",
   "nbconvert_exporter": "python",
   "pygments_lexer": "ipython3",
   "version": "3.6.2"
  }
 },
 "nbformat": 4,
 "nbformat_minor": 4
}
