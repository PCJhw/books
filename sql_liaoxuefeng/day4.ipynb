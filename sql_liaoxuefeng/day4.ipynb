{
 "cells": [
  {
   "cell_type": "markdown",
   "metadata": {},
   "source": [
    "## 8.修改数据\n",
    "- 增删改查，即CRUD：Create、Retrieve、Update、Delete。\n",
    "- SELECT：查询\n",
    "- INSERT：插入新记录；\n",
    "- UPDATE：更新已有记录；\n",
    "- DELETE：删除已有记录。\n",
    "\n",
    "### 8.1 INSERT\n",
    "- INSERT INTO <表名> (字段1, 字段2, ...) VALUES (值1, 值2, ...);\n",
    "- INSERT INTO students (class_id, name, gender, score) VALUES (2, '大牛', 'M', 80);\n",
    "- INSERT INTO students (class_id, name, gender, score) VALUES\n",
    "  (1, '大宝', 'M', 87),\n",
    "  (2, '二宝', 'M', 81);\n",
    "\n",
    "### 8.2 UPDATE\n",
    "- UPDATE <表名> SET 字段1=值1, 字段2=值2, ... WHERE ...;\n",
    "- UPDATE students SET name='大牛', score=66 WHERE id=1;\n",
    "- UPDATE students SET score=score+10 WHERE score<60 AND score>50;\n",
    "- UPDATE语句可以没有WHERE条件；这时，整个表的所有记录都会被更新。\n",
    "\n",
    "### 8.3 DELETE\n",
    "- DELETE FROM <表名> WHERE ...;\n",
    "- DELETE FROM students WHERE id>=5 AND id<=7;\n",
    "- 不带WHERE条件的DELETE语句会删除整个表的数据：DELETE FROM students;"
   ]
  }
 ],
 "metadata": {
  "kernelspec": {
   "display_name": "Python 3",
   "language": "python",
   "name": "python3"
  },
  "language_info": {
   "codemirror_mode": {
    "name": "ipython",
    "version": 3
   },
   "file_extension": ".py",
   "mimetype": "text/x-python",
   "name": "python",
   "nbconvert_exporter": "python",
   "pygments_lexer": "ipython3",
   "version": "3.6.2"
  }
 },
 "nbformat": 4,
 "nbformat_minor": 4
}
