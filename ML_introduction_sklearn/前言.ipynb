{
 "cells": [
  {
   "cell_type": "markdown",
   "id": "digital-liabilities",
   "metadata": {},
   "source": [
    "- 理念：\n",
    "    - 初学者可以先编程+Kaggle，先会用即可；后续再了解理论知识。\n",
    "    - 有用自然有学习的动力\n",
    "- 作者\n",
    "    - 周元哲"
   ]
  },
  {
   "cell_type": "code",
   "execution_count": null,
   "id": "aggregate-hearing",
   "metadata": {},
   "outputs": [],
   "source": []
  },
  {
   "cell_type": "code",
   "execution_count": null,
   "id": "cheap-subdivision",
   "metadata": {},
   "outputs": [],
   "source": []
  }
 ],
 "metadata": {
  "kernelspec": {
   "display_name": "py36",
   "language": "python",
   "name": "py36"
  },
  "language_info": {
   "codemirror_mode": {
    "name": "ipython",
    "version": 3
   },
   "file_extension": ".py",
   "mimetype": "text/x-python",
   "name": "python",
   "nbconvert_exporter": "python",
   "pygments_lexer": "ipython3",
   "version": "3.6.2"
  }
 },
 "nbformat": 4,
 "nbformat_minor": 5
}
