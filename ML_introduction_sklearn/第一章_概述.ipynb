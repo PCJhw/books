{
 "cells": [
  {
   "cell_type": "markdown",
   "id": "attractive-translator",
   "metadata": {},
   "source": [
    "## 人工智能概述\n",
    "- 人工智能、机器学习、深度学习的关系\n",
    "- 机器学习三要素：数据，算法，模型\n",
    "- 机器学习开发流程：\n",
    "    - 数据采集（爬虫、web）\n",
    "    - 数据预处理（清洗、集成、变换等）\n",
    "    - 特征工程（特征提取，选择，降维）\n",
    "    - 模型构建和训练\n",
    "    - 模型优化与评估"
   ]
  },
  {
   "cell_type": "markdown",
   "id": "academic-quest",
   "metadata": {},
   "source": [
    "## sklearn框架\n",
    "- numpy, scipy, matplotlib"
   ]
  },
  {
   "cell_type": "code",
   "execution_count": 1,
   "id": "demonstrated-entry",
   "metadata": {},
   "outputs": [],
   "source": [
    "import sklearn"
   ]
  },
  {
   "cell_type": "code",
   "execution_count": 2,
   "id": "controlling-picture",
   "metadata": {},
   "outputs": [
    {
     "name": "stderr",
     "output_type": "stream",
     "text": [
      "/anaconda3/envs/py36/lib/python3.6/site-packages/sklearn/externals/joblib/__init__.py:15: DeprecationWarning: sklearn.externals.joblib is deprecated in 0.21 and will be removed in 0.23. Please import this functionality directly from joblib, which can be installed with: pip install joblib. If this warning is raised when loading pickled models, you may need to re-serialize those models with scikit-learn 0.21+.\n",
      "  warnings.warn(msg, category=DeprecationWarning)\n"
     ]
    }
   ],
   "source": [
    "from sklearn.externals import joblib"
   ]
  },
  {
   "cell_type": "code",
   "execution_count": 3,
   "id": "permanent-acoustic",
   "metadata": {},
   "outputs": [],
   "source": [
    "# 简单例子\n",
    "from sklearn import datasets\n",
    "from sklearn.svm import SVC"
   ]
  },
  {
   "cell_type": "code",
   "execution_count": 4,
   "id": "immune-sector",
   "metadata": {},
   "outputs": [],
   "source": [
    "svm = SVC()\n",
    "iris = datasets.load_iris()\n",
    "X = iris.data\n",
    "y = iris.target"
   ]
  },
  {
   "cell_type": "code",
   "execution_count": 5,
   "id": "random-thanks",
   "metadata": {},
   "outputs": [
    {
     "name": "stderr",
     "output_type": "stream",
     "text": [
      "/anaconda3/envs/py36/lib/python3.6/site-packages/sklearn/svm/base.py:193: FutureWarning: The default value of gamma will change from 'auto' to 'scale' in version 0.22 to account better for unscaled features. Set gamma explicitly to 'auto' or 'scale' to avoid this warning.\n",
      "  \"avoid this warning.\", FutureWarning)\n"
     ]
    },
    {
     "data": {
      "text/plain": [
       "SVC(C=1.0, cache_size=200, class_weight=None, coef0=0.0,\n",
       "    decision_function_shape='ovr', degree=3, gamma='auto_deprecated',\n",
       "    kernel='rbf', max_iter=-1, probability=False, random_state=None,\n",
       "    shrinking=True, tol=0.001, verbose=False)"
      ]
     },
     "execution_count": 5,
     "metadata": {},
     "output_type": "execute_result"
    }
   ],
   "source": [
    "svm.fit(X, y)"
   ]
  },
  {
   "cell_type": "code",
   "execution_count": 6,
   "id": "wooden-maryland",
   "metadata": {},
   "outputs": [
    {
     "data": {
      "text/plain": [
       "['model/svm.pkl0']"
      ]
     },
     "execution_count": 6,
     "metadata": {},
     "output_type": "execute_result"
    }
   ],
   "source": [
    "joblib.dump(svm, \"model/svm.pkl0\")"
   ]
  },
  {
   "cell_type": "code",
   "execution_count": 7,
   "id": "chubby-mexico",
   "metadata": {},
   "outputs": [
    {
     "name": "stdout",
     "output_type": "stream",
     "text": [
      "[0]\n"
     ]
    }
   ],
   "source": [
    "new_svm = joblib.load(\"model/svm.pkl0\")\n",
    "print(new_svm.predict(X[0:1]))"
   ]
  },
  {
   "cell_type": "markdown",
   "id": "unsigned-inclusion",
   "metadata": {},
   "source": [
    "## Anaconda简介"
   ]
  },
  {
   "cell_type": "markdown",
   "id": "defensive-exploration",
   "metadata": {},
   "source": [
    "## 学习建议\n",
    "- 熟悉python\n",
    "- 熟悉机器学习基础概念：西瓜书\n",
    "- 熟悉数据预处理"
   ]
  },
  {
   "cell_type": "markdown",
   "id": "purple-status",
   "metadata": {},
   "source": [
    "## 学习方法\n",
    "- 吴恩达在B站的课程（或者其他在B站的课）；林轩田B站“机器学习基石”；周志华“西瓜书”；李航深度学习“花书”\n",
    "- Kaggle"
   ]
  },
  {
   "cell_type": "code",
   "execution_count": null,
   "id": "portuguese-pierce",
   "metadata": {},
   "outputs": [],
   "source": []
  }
 ],
 "metadata": {
  "kernelspec": {
   "display_name": "py36",
   "language": "python",
   "name": "py36"
  },
  "language_info": {
   "codemirror_mode": {
    "name": "ipython",
    "version": 3
   },
   "file_extension": ".py",
   "mimetype": "text/x-python",
   "name": "python",
   "nbconvert_exporter": "python",
   "pygments_lexer": "ipython3",
   "version": "3.6.2"
  }
 },
 "nbformat": 4,
 "nbformat_minor": 5
}
