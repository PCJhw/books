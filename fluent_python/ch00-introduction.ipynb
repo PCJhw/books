{
 "cells": [
  {
   "cell_type": "markdown",
   "metadata": {},
   "source": [
    "- 中高级python开发\n",
    "- python独有特性: 使代码更pythonic\n",
    "- 不成熟的抽象和过早地优化都会坏事\n",
    "- doctest, 测试驱动开发\n",
    "- python: https://docs.python.org/zh-cn/3/tutorial/\n",
    "- doctest: https://blog.csdn.net/liuchunming033/article/details/51455663\n",
    "- pytest: https://blog.csdn.net/liuchunming033/article/details/46501653\n",
    "- project_code: https://github.com/fluentpython/example-code"
   ]
  }
 ],
 "metadata": {
  "kernelspec": {
   "display_name": "Python 3",
   "language": "python",
   "name": "python3"
  },
  "language_info": {
   "codemirror_mode": {
    "name": "ipython",
    "version": 3
   },
   "file_extension": ".py",
   "mimetype": "text/x-python",
   "name": "python",
   "nbconvert_exporter": "python",
   "pygments_lexer": "ipython3",
   "version": "3.6.2"
  }
 },
 "nbformat": 4,
 "nbformat_minor": 4
}
